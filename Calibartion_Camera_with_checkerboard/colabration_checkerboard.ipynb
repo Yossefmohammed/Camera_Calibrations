{
 "cells": [
  {
   "cell_type": "code",
   "execution_count": 1,
   "id": "6c1818c5",
   "metadata": {},
   "outputs": [
    {
     "name": "stdout",
     "output_type": "stream",
     "text": [
      "checkerboard image saved as checkerboard.png\n"
     ]
    }
   ],
   "source": [
    "import cv2\n",
    "import numpy as np\n",
    "import os \n",
    "\n",
    "\n",
    "def save_ckeckerboard_image(filename,squre_size_cm):\n",
    "    rows,cols=8,8\n",
    "    pixel_per_cm = 100\n",
    "    square_size_px = int(squre_size_cm * pixel_per_cm)\n",
    "    pattern =np.zeros((rows*square_size_px,cols*square_size_px),dtype=np.uint8)\n",
    "    \n",
    "    for i in range (0,rows,2):\n",
    "        for j in range (0,cols,2):\n",
    "            pattern[i*square_size_px:(i+1)*square_size_px,j*square_size_px:(j+1)*square_size_px]=255\n",
    "        \n",
    "    for i in range (1,rows,2):\n",
    "        for j in range (1,cols,2):\n",
    "            pattern[i*square_size_px:(i+1)*square_size_px,j*square_size_px:(j+1)*square_size_px]=255\n",
    "\n",
    "    cv2.imwrite(filename,pattern)\n",
    "    print(f\"checkerboard image saved as {filename}\")\n",
    "\n",
    "\n",
    "save_ckeckerboard_image(\"checkerboard.png\", squre_size_cm= 2.5 )"
   ]
  },
  {
   "cell_type": "code",
   "execution_count": null,
   "id": "3625746c",
   "metadata": {},
   "outputs": [
    {
     "name": "stdout",
     "output_type": "stream",
     "text": [
      "imagesDirectory already exists \n",
      "saved image number 0\n",
      "Total images saved: 1\n"
     ]
    }
   ],
   "source": [
    "chess_board_dim =(7,7) #number of corners\n",
    "\n",
    "n=0 \n",
    "image_dir=\"images\"\n",
    "\n",
    "check_dir = os.path.isdir(image_dir)\n",
    "if not check_dir:\n",
    "    os.makedirs(image_dir)\n",
    "    print(f\"{image_dir}Directory is created \")\n",
    "else:\n",
    "    print(f\"{image_dir}Directory already exists \")\n",
    "    \n",
    "\n",
    "criteria = (cv2.TermCriteria_EPS + cv2.TermCriteria_MAX_ITER, 30, 0.001)\n",
    "\n",
    "def detect_checkerborad(image,grayImage,criteria,boardDimesions):\n",
    "    ret , corners = cv2.findChessboardCorners(grayImage,boardDimesions)\n",
    "    if ret == True:\n",
    "        corner1=cv2.cornerSubPix(grayImage,corners,(3,3),(-1,-1),criteria)\n",
    "        image = cv2.drawChessboardCorners(image,boardDimesions,corner1,ret)\n",
    "    return image , ret\n",
    "\n",
    "\n",
    "cap = cv2.VideoCapture(0)\n",
    "while True:\n",
    "    _,frame = cap.read()\n",
    "    copyFrame = frame.copy()\n",
    "    gray = cv2.cvtColor(frame,cv2.COLOR_BGR2GRAY)\n",
    "    image ,board_detected = detect_checkerborad(frame,gray,criteria,chess_board_dim)\n",
    "    cv2.putText(frame,f\"saved_image:{n}\",(30,40),cv2.FONT_HERSHEY_PLAIN,1.4,(0,255,0),2)\n",
    "    \n",
    "    cv2.imshow(\"frame\",frame)\n",
    "    cv2.imshow(\"copyframe\",copyFrame)\n",
    "    \n",
    "    key = cv2.waitKey(1)\n",
    "    \n",
    "    if key ==ord(\"q\"):\n",
    "        break\n",
    "    if key == ord(\"s\") and board_detected == True:\n",
    "        cv2.imwrite(f\"{image_dir}/checkerboard_{n}.png\",copyFrame)\n",
    "        print(f\"saved image number {n}\")\n",
    "        n+=1\n",
    "cap.release()\n",
    "cv2.destroyAllWindows()\n",
    "print(f\"Total images saved: {n}\")\n",
    "              \n"
   ]
  }
 ],
 "metadata": {
  "kernelspec": {
   "display_name": "Python 3",
   "language": "python",
   "name": "python3"
  },
  "language_info": {
   "codemirror_mode": {
    "name": "ipython",
    "version": 3
   },
   "file_extension": ".py",
   "mimetype": "text/x-python",
   "name": "python",
   "nbconvert_exporter": "python",
   "pygments_lexer": "ipython3",
   "version": "3.11.9"
  }
 },
 "nbformat": 4,
 "nbformat_minor": 5
}
